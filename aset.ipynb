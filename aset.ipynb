{
 "cells": [
  {
   "cell_type": "code",
   "execution_count": 1,
   "id": "a5b27dcc-0e26-4089-b09d-33f7532c00f9",
   "metadata": {},
   "outputs": [],
   "source": [
    "d={}"
   ]
  },
  {
   "cell_type": "code",
   "execution_count": 2,
   "id": "f3dc4a89-ef94-401b-8f26-4c998cb8502e",
   "metadata": {},
   "outputs": [
    {
     "data": {
      "text/plain": [
       "dict"
      ]
     },
     "execution_count": 2,
     "metadata": {},
     "output_type": "execute_result"
    }
   ],
   "source": [
    "type(d)"
   ]
  },
  {
   "cell_type": "code",
   "execution_count": 3,
   "id": "a2bb7e3c-2414-4084-b64d-45756a043835",
   "metadata": {},
   "outputs": [],
   "source": [
    "d1={'key':\"nitin\"}"
   ]
  },
  {
   "cell_type": "code",
   "execution_count": 4,
   "id": "63c6aab1-2fab-4706-91bb-af772a652b96",
   "metadata": {},
   "outputs": [
    {
     "data": {
      "text/plain": [
       "{'key': 'nitin'}"
      ]
     },
     "execution_count": 4,
     "metadata": {},
     "output_type": "execute_result"
    }
   ],
   "source": [
    "d1"
   ]
  },
  {
   "cell_type": "code",
   "execution_count": 6,
   "id": "09159cae-aff1-4dde-8ef5-20a0aed2e4cc",
   "metadata": {},
   "outputs": [],
   "source": [
    "d2={'nit':\"jevan\"}"
   ]
  },
  {
   "cell_type": "code",
   "execution_count": 7,
   "id": "a7b3077c-7b7f-458e-8b06-a1b4923b8298",
   "metadata": {},
   "outputs": [
    {
     "data": {
      "text/plain": [
       "{'nit': 'jevan'}"
      ]
     },
     "execution_count": 7,
     "metadata": {},
     "output_type": "execute_result"
    }
   ],
   "source": [
    "d2"
   ]
  },
  {
   "cell_type": "code",
   "execution_count": 8,
   "id": "737f4ef5-6b39-4bee-be20-d5b991521bf4",
   "metadata": {},
   "outputs": [],
   "source": [
    "d3={'sam':\"jagan\",\"email\":\"nmmehetre@gmail.com\",\"word\":2345}"
   ]
  },
  {
   "cell_type": "code",
   "execution_count": 9,
   "id": "a51a0201-1b8b-44be-a08a-c4b62b6806ae",
   "metadata": {},
   "outputs": [
    {
     "data": {
      "text/plain": [
       "{'sam': 'jagan', 'email': 'nmmehetre@gmail.com', 'word': 2345}"
      ]
     },
     "execution_count": 9,
     "metadata": {},
     "output_type": "execute_result"
    }
   ],
   "source": [
    "d3"
   ]
  },
  {
   "cell_type": "code",
   "execution_count": 15,
   "id": "79910738-f139-4a4d-8960-a905b1546f89",
   "metadata": {},
   "outputs": [],
   "source": [
    "d4={231:\"huta\",'@ram':\"gte\",True:12634}"
   ]
  },
  {
   "cell_type": "code",
   "execution_count": 16,
   "id": "e3fbfaf6-71ca-4366-8860-fbb70c530176",
   "metadata": {},
   "outputs": [
    {
     "data": {
      "text/plain": [
       "{231: 'huta', '@ram': 'gte', True: 12634}"
      ]
     },
     "execution_count": 16,
     "metadata": {},
     "output_type": "execute_result"
    }
   ],
   "source": [
    "d4"
   ]
  },
  {
   "cell_type": "code",
   "execution_count": 18,
   "id": "5a8d5914-5827-4722-b0bc-af686228355c",
   "metadata": {},
   "outputs": [
    {
     "data": {
      "text/plain": [
       "'huta'"
      ]
     },
     "execution_count": 18,
     "metadata": {},
     "output_type": "execute_result"
    }
   ],
   "source": [
    "d4[231]"
   ]
  },
  {
   "cell_type": "code",
   "execution_count": 19,
   "id": "fe9752c8-882f-49d5-a293-40be921fd5a1",
   "metadata": {},
   "outputs": [
    {
     "data": {
      "text/plain": [
       "12634"
      ]
     },
     "execution_count": 19,
     "metadata": {},
     "output_type": "execute_result"
    }
   ],
   "source": [
    "d4[True]"
   ]
  },
  {
   "cell_type": "code",
   "execution_count": 20,
   "id": "35b06330-aaba-4791-ab02-1a10814d3f67",
   "metadata": {},
   "outputs": [
    {
     "data": {
      "text/plain": [
       "12634"
      ]
     },
     "execution_count": 20,
     "metadata": {},
     "output_type": "execute_result"
    }
   ],
   "source": [
    "d4[1]"
   ]
  },
  {
   "cell_type": "code",
   "execution_count": 21,
   "id": "19b3e5d8-ba01-468b-858d-485320539dc9",
   "metadata": {},
   "outputs": [],
   "source": [
    "d5={'name':\"manohar\",'w_d':\"n@hmail.com\",\"name\":\"sfam\"}"
   ]
  },
  {
   "cell_type": "code",
   "execution_count": 22,
   "id": "5274ac3b-ec81-42a1-89cd-3c7214f95973",
   "metadata": {},
   "outputs": [
    {
     "data": {
      "text/plain": [
       "'sfam'"
      ]
     },
     "execution_count": 22,
     "metadata": {},
     "output_type": "execute_result"
    }
   ],
   "source": [
    "d5['name']"
   ]
  },
  {
   "cell_type": "code",
   "execution_count": 24,
   "id": "65527ec4-cff7-44e6-aea4-84a0943dd4c7",
   "metadata": {},
   "outputs": [],
   "source": [
    "d6={\"company\":\"pwskill\", \"course\":[\"web dev\",\"data s\",\"java\"]}"
   ]
  },
  {
   "cell_type": "code",
   "execution_count": 25,
   "id": "d1becba4-4ea2-4fba-83fe-754cedb6c3b5",
   "metadata": {},
   "outputs": [
    {
     "data": {
      "text/plain": [
       "{'company': 'pwskill', 'course': ['web dev', 'data s', 'java']}"
      ]
     },
     "execution_count": 25,
     "metadata": {},
     "output_type": "execute_result"
    }
   ],
   "source": [
    "d6"
   ]
  },
  {
   "cell_type": "code",
   "execution_count": 26,
   "id": "f0d2f106-cfce-4219-a023-d4d3686c54d9",
   "metadata": {
    "jupyter": {
     "source_hidden": true
    },
    "tags": []
   },
   "outputs": [
    {
     "data": {
      "text/plain": [
       "'pwskill'"
      ]
     },
     "execution_count": 26,
     "metadata": {},
     "output_type": "execute_result"
    }
   ],
   "source": [
    "d6['company']"
   ]
  },
  {
   "cell_type": "code",
   "execution_count": 27,
   "id": "af3af679-9c7c-4720-9dbb-361e6e1be2bb",
   "metadata": {},
   "outputs": [
    {
     "data": {
      "text/plain": [
       "['web dev', 'data s', 'java']"
      ]
     },
     "execution_count": 27,
     "metadata": {},
     "output_type": "execute_result"
    }
   ],
   "source": [
    "d6['course']"
   ]
  },
  {
   "cell_type": "code",
   "execution_count": 28,
   "id": "49bc7489-a0e5-4e31-b526-aecc8213d1c7",
   "metadata": {},
   "outputs": [
    {
     "data": {
      "text/plain": [
       "'java'"
      ]
     },
     "execution_count": 28,
     "metadata": {},
     "output_type": "execute_result"
    }
   ],
   "source": [
    "d6['course'][2]"
   ]
  },
  {
   "cell_type": "code",
   "execution_count": 32,
   "id": "0597760a-56f8-466f-83f3-ea4854343b36",
   "metadata": {},
   "outputs": [],
   "source": [
    "d7={\"number\":[1,45,54,455],\"assingment\":(1,2,3,4),\"launch dtae\":[25,12,42],\"xlass\":{\"web_dev\":8,\"data s\":9}}"
   ]
  },
  {
   "cell_type": "code",
   "execution_count": 34,
   "id": "bbae9d2c-913c-4b91-8b7b-8229dd420cc4",
   "metadata": {},
   "outputs": [
    {
     "data": {
      "text/plain": [
       "{'number': [1, 45, 54, 455],\n",
       " 'assingment': (1, 2, 3, 4),\n",
       " 'launch dtae': [25, 12, 42],\n",
       " 'xlass': {'web_dev': 8, 'data s': 9}}"
      ]
     },
     "execution_count": 34,
     "metadata": {},
     "output_type": "execute_result"
    }
   ],
   "source": [
    "d7"
   ]
  },
  {
   "cell_type": "code",
   "execution_count": 18,
   "id": "899d5f2d-bc63-4086-bb35-a33a354ca5b5",
   "metadata": {},
   "outputs": [
    {
     "ename": "SyntaxError",
     "evalue": "invalid syntax (3011403839.py, line 4)",
     "output_type": "error",
     "traceback": [
      "\u001b[0;36m  Cell \u001b[0;32mIn[18], line 4\u001b[0;36m\u001b[0m\n\u001b[0;31m    elif>=60 and marks<80:\u001b[0m\n\u001b[0m    ^\u001b[0m\n\u001b[0;31mSyntaxError\u001b[0m\u001b[0;31m:\u001b[0m invalid syntax\n"
     ]
    }
   ],
   "source": [
    "marks=10\n",
    "if marks >= 80 :\n",
    "    print(\"i will get\")\n",
    "    elif>=60 and marks<80:\n",
    "    print(\"i will noiyy get\")\n",
    "        \n",
    "    "
   ]
  },
  {
   "cell_type": "code",
   "execution_count": 22,
   "id": "8f735592-fe9f-4a68-99e1-5c3287fd1e62",
   "metadata": {},
   "outputs": [
    {
     "name": "stdin",
     "output_type": "stream",
     "text": [
      "enter price 45\n"
     ]
    },
    {
     "name": "stdout",
     "output_type": "stream",
     "text": [
      "i will buy\n"
     ]
    }
   ],
   "source": [
    "price=int(input(\"enter price\"))\n",
    "if price>1000:\n",
    "          print(\"i will not puircgha\")\n",
    "else:\n",
    "    print(\"i will buy\")"
   ]
  },
  {
   "cell_type": "code",
   "execution_count": 23,
   "id": "6370454c-b530-4768-b94d-e8d3623268ae",
   "metadata": {},
   "outputs": [
    {
     "name": "stdin",
     "output_type": "stream",
     "text": [
      "enter price 1000\n"
     ]
    },
    {
     "name": "stdout",
     "output_type": "stream",
     "text": [
      "i will buy\n"
     ]
    }
   ],
   "source": [
    "price=int(input(\"enter price\"))\n",
    "if price>1000:\n",
    "          print(\"i will not puircgha\")\n",
    "else:\n",
    "    print(\"i will buy\")"
   ]
  },
  {
   "cell_type": "code",
   "execution_count": 24,
   "id": "5700d8f5-7cc5-4101-a602-fed3a186a020",
   "metadata": {},
   "outputs": [],
   "source": [
    "l=[1,2,3,4,5,6]"
   ]
  },
  {
   "cell_type": "code",
   "execution_count": 25,
   "id": "6a581da4-86d0-4604-ae35-427587dade05",
   "metadata": {},
   "outputs": [
    {
     "data": {
      "text/plain": [
       "1"
      ]
     },
     "execution_count": 25,
     "metadata": {},
     "output_type": "execute_result"
    }
   ],
   "source": [
    "l[0]"
   ]
  },
  {
   "cell_type": "code",
   "execution_count": 26,
   "id": "49e925c5-59c9-404f-8831-96e685d20784",
   "metadata": {},
   "outputs": [],
   "source": [
    "l1=[]"
   ]
  },
  {
   "cell_type": "code",
   "execution_count": 29,
   "id": "44ef2a1b-021c-4fe2-a663-767a2cb9328c",
   "metadata": {},
   "outputs": [
    {
     "data": {
      "text/plain": [
       "[1, 2, 3, 4, 5, 6]"
      ]
     },
     "execution_count": 29,
     "metadata": {},
     "output_type": "execute_result"
    }
   ],
   "source": [
    "l"
   ]
  },
  {
   "cell_type": "code",
   "execution_count": 30,
   "id": "862c81d8-36d5-44ae-904c-4e5f8e8693e7",
   "metadata": {},
   "outputs": [],
   "source": [
    "l=[1,2,3,4,5,6]"
   ]
  },
  {
   "cell_type": "code",
   "execution_count": 31,
   "id": "ea06ec4e-03d8-4729-b9ba-2b2ef842d88f",
   "metadata": {},
   "outputs": [
    {
     "name": "stdout",
     "output_type": "stream",
     "text": [
      "1\n",
      "2\n",
      "3\n",
      "4\n",
      "5\n",
      "6\n"
     ]
    }
   ],
   "source": [
    "for i in l :\n",
    "    print(i)"
   ]
  },
  {
   "cell_type": "code",
   "execution_count": 33,
   "id": "8babc385-e6a1-458b-a2da-0777f6dd8fc3",
   "metadata": {},
   "outputs": [
    {
     "name": "stdout",
     "output_type": "stream",
     "text": [
      "[1, 2, 3, 4, 5, 6]\n",
      "[1, 2, 3, 4, 5, 6]\n",
      "[1, 2, 3, 4, 5, 6]\n",
      "[1, 2, 3, 4, 5, 6]\n",
      "[1, 2, 3, 4, 5, 6]\n",
      "[1, 2, 3, 4, 5, 6]\n"
     ]
    }
   ],
   "source": [
    "for i in l :\n",
    "    print(l)\n"
   ]
  },
  {
   "cell_type": "code",
   "execution_count": 34,
   "id": "a47aab13-1257-4c2a-bfc7-65163ecbbba3",
   "metadata": {},
   "outputs": [
    {
     "data": {
      "text/plain": [
       "[1, 2, 3, 4, 5, 6]"
      ]
     },
     "execution_count": 34,
     "metadata": {},
     "output_type": "execute_result"
    }
   ],
   "source": [
    "l"
   ]
  },
  {
   "cell_type": "code",
   "execution_count": 1,
   "id": "5218447f-d698-474f-93de-71f3f99f877c",
   "metadata": {},
   "outputs": [
    {
     "ename": "SyntaxError",
     "evalue": "invalid syntax (2796536029.py, line 1)",
     "output_type": "error",
     "traceback": [
      "\u001b[0;36m  Cell \u001b[0;32mIn[1], line 1\u001b[0;36m\u001b[0m\n\u001b[0;31m    l1 []\u001b[0m\n\u001b[0m        ^\u001b[0m\n\u001b[0;31mSyntaxError\u001b[0m\u001b[0;31m:\u001b[0m invalid syntax\n"
     ]
    }
   ],
   "source": [
    "l1 []\n",
    "    for i in l :\n",
    "    print(i+1)\n",
    "    l1.append(i+1)\n",
    "    "
   ]
  },
  {
   "cell_type": "code",
   "execution_count": 2,
   "id": "e6df5e22-eb5f-47e4-94a6-4925ea4a611b",
   "metadata": {},
   "outputs": [],
   "source": [
    "l=[\"sudham\",\"sudam\",\"nitin\",\"ram\"]"
   ]
  },
  {
   "cell_type": "code",
   "execution_count": 3,
   "id": "ec741127-502a-4b41-9f85-f91144dc0215",
   "metadata": {},
   "outputs": [
    {
     "data": {
      "text/plain": [
       "['sudham', 'sudam', 'nitin', 'ram']"
      ]
     },
     "execution_count": 3,
     "metadata": {},
     "output_type": "execute_result"
    }
   ],
   "source": [
    "l"
   ]
  },
  {
   "cell_type": "code",
   "execution_count": 5,
   "id": "531e091b-0c3c-4d19-acec-1897767ff0b5",
   "metadata": {},
   "outputs": [
    {
     "name": "stdout",
     "output_type": "stream",
     "text": [
      "sudham\n",
      "sudam\n",
      "nitin\n",
      "ram\n"
     ]
    }
   ],
   "source": [
    "for i in l :\n",
    "    print(i)"
   ]
  },
  {
   "cell_type": "code",
   "execution_count": 6,
   "id": "41a61326-870a-4a45-8629-ec302f45cd0d",
   "metadata": {},
   "outputs": [
    {
     "name": "stdout",
     "output_type": "stream",
     "text": [
      "sudham\n",
      "sudam\n",
      "nitin\n",
      "ram\n"
     ]
    }
   ],
   "source": [
    "l1=[]\n",
    "for i in l :\n",
    "    print(i)\n",
    "    l1.append(i.upper())\n",
    "    "
   ]
  },
  {
   "cell_type": "code",
   "execution_count": 7,
   "id": "2735af34-850b-49f1-ad20-0f01ced23a49",
   "metadata": {},
   "outputs": [
    {
     "data": {
      "text/plain": [
       "['SUDHAM', 'SUDAM', 'NITIN', 'RAM']"
      ]
     },
     "execution_count": 7,
     "metadata": {},
     "output_type": "execute_result"
    }
   ],
   "source": [
    "l1"
   ]
  },
  {
   "cell_type": "code",
   "execution_count": 8,
   "id": "383b7bd5-a74b-4c15-ab77-47e379463741",
   "metadata": {},
   "outputs": [],
   "source": [
    "l=[1,2,3,4,4,\"sudam\",\"kumar\",24.45,\"abc\"]"
   ]
  },
  {
   "cell_type": "code",
   "execution_count": 13,
   "id": "6618991b-9d17-44f9-ba9f-98f81629b478",
   "metadata": {},
   "outputs": [],
   "source": [
    "l1_num=[]\n",
    "l2_str=[]\n",
    "for i in l :\n",
    "    if type(i)== int or type(i)== float:\n",
    "        l1_num.append(i)\n",
    "    else:\n",
    "            l2_str.append(i)"
   ]
  },
  {
   "cell_type": "code",
   "execution_count": 15,
   "id": "6b689510-282d-4ace-bc14-8f372f2d9289",
   "metadata": {},
   "outputs": [
    {
     "data": {
      "text/plain": [
       "[1, 2, 3, 4, 4, 24.45]"
      ]
     },
     "execution_count": 15,
     "metadata": {},
     "output_type": "execute_result"
    }
   ],
   "source": [
    "l1_num"
   ]
  },
  {
   "cell_type": "code",
   "execution_count": 17,
   "id": "d2a5ecfa-2f3a-4f44-8d26-102c88ccadc6",
   "metadata": {},
   "outputs": [
    {
     "data": {
      "text/plain": [
       "['sudam', 'kumar', 'abc']"
      ]
     },
     "execution_count": 17,
     "metadata": {},
     "output_type": "execute_result"
    }
   ],
   "source": [
    "l2_str"
   ]
  },
  {
   "cell_type": "code",
   "execution_count": null,
   "id": "aa5ee0ac-d738-4f59-89e1-61978930b4e4",
   "metadata": {},
   "outputs": [],
   "source": []
  }
 ],
 "metadata": {
  "kernelspec": {
   "display_name": "Python 3 (ipykernel)",
   "language": "python",
   "name": "python3"
  },
  "language_info": {
   "codemirror_mode": {
    "name": "ipython",
    "version": 3
   },
   "file_extension": ".py",
   "mimetype": "text/x-python",
   "name": "python",
   "nbconvert_exporter": "python",
   "pygments_lexer": "ipython3",
   "version": "3.10.8"
  }
 },
 "nbformat": 4,
 "nbformat_minor": 5
}
